{
  "nbformat": 4,
  "nbformat_minor": 0,
  "metadata": {
    "colab": {
      "provenance": [],
      "authorship_tag": "ABX9TyMa62BaIw6bfCcjGorCS/x9",
      "include_colab_link": true
    },
    "kernelspec": {
      "name": "python3",
      "display_name": "Python 3"
    },
    "language_info": {
      "name": "python"
    }
  },
  "cells": [
    {
      "cell_type": "markdown",
      "metadata": {
        "id": "view-in-github",
        "colab_type": "text"
      },
      "source": [
        "<a href=\"https://colab.research.google.com/github/XLaughs/TESTREPO/blob/main/DataScienceEcosystem.ipynb\" target=\"_parent\"><img src=\"https://colab.research.google.com/assets/colab-badge.svg\" alt=\"Open In Colab\"/></a>"
      ]
    },
    {
      "cell_type": "markdown",
      "source": [
        "# Data Science Tools and Ecosystem"
      ],
      "metadata": {
        "id": "F02fTawVnRGj"
      }
    },
    {
      "cell_type": "markdown",
      "source": [
        "In this notebook, Data Science Tools and Ecosystem are summarized."
      ],
      "metadata": {
        "id": "V0fvmVsvnzze"
      }
    },
    {
      "cell_type": "markdown",
      "source": [
        "**Objectives:**\n",
        "\n",
        "\n",
        "*   List Popular Languages for Data Science\n",
        "*   List Popular Libraries for Data Science\n",
        "*   Run basic code\n",
        "\n"
      ],
      "metadata": {
        "id": "8SnI7CrLwFFp"
      }
    },
    {
      "cell_type": "markdown",
      "source": [
        "Some of the popular languages that Data Scientists use are:\n",
        "1. Python\n",
        "2.R\n",
        "3.JavaScript\n",
        "4.SQL"
      ],
      "metadata": {
        "id": "0o863BR-oMF7"
      }
    },
    {
      "cell_type": "markdown",
      "source": [
        "Some of the commonly used libraries used by Data Scientists include:\n",
        "\n",
        "\n",
        "1.   Matplotlib\n",
        "2.   NumPy\n",
        "3.   Pandas\n",
        "\n"
      ],
      "metadata": {
        "id": "dzMmWwObop-x"
      }
    },
    {
      "cell_type": "markdown",
      "source": [
        "#Table\n",
        "\n",
        "\n"
      ],
      "metadata": {
        "id": "34ic2zbBpSqX"
      }
    },
    {
      "cell_type": "markdown",
      "source": [
        "| Data Science Tools|\n",
        "|-------------------|\n",
        "| Jupyter Notebooks |\n",
        "| Pytorch           |\n",
        "| MLFlow            |\n",
        "\n",
        "\n"
      ],
      "metadata": {
        "id": "2OWzkA71qOOk"
      }
    },
    {
      "cell_type": "markdown",
      "source": [
        "### Below are a few examples of evaluating arithmetic expressions in Python"
      ],
      "metadata": {
        "id": "_B9bOF1wtAOM"
      }
    },
    {
      "cell_type": "code",
      "source": [
        "(3*4)+5"
      ],
      "metadata": {
        "colab": {
          "base_uri": "https://localhost:8080/"
        },
        "id": "6SV6mUi6td4y",
        "outputId": "1812e70a-5e86-495e-f5fa-94f00ab38b0c"
      },
      "execution_count": 1,
      "outputs": [
        {
          "output_type": "execute_result",
          "data": {
            "text/plain": [
              "17"
            ]
          },
          "metadata": {},
          "execution_count": 1
        }
      ]
    },
    {
      "cell_type": "code",
      "source": [
        "minutes = 200 % 60\n",
        "hours = 200 // 60\n",
        "print(f\"Hours: {hours}, Minutes: {minutes}\")"
      ],
      "metadata": {
        "colab": {
          "base_uri": "https://localhost:8080/"
        },
        "id": "-sK6klSet-EM",
        "outputId": "c1970be0-e952-48ca-9b54-b8eff7f01640"
      },
      "execution_count": 10,
      "outputs": [
        {
          "output_type": "stream",
          "name": "stdout",
          "text": [
            "Hours: 3, Minutes: 20\n"
          ]
        }
      ]
    },
    {
      "cell_type": "markdown",
      "source": [
        "## Author\n",
        "Joseph Laugher"
      ],
      "metadata": {
        "id": "EYkGoVEpxCfm"
      }
    }
  ]
}